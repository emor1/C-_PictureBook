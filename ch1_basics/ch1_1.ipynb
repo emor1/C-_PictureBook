{
 "cells": [
  {
   "cell_type": "code",
   "execution_count": 7,
   "metadata": {
    "dotnet_interactive": {
     "language": "csharp"
    },
    "polyglot_notebook": {
     "kernelName": "csharp"
    },
    "vscode": {
     "languageId": "polyglot-notebook"
    }
   },
   "outputs": [
    {
     "name": "stdout",
     "output_type": "stream",
     "text": [
      "Hello World\n",
      "0\n"
     ]
    }
   ],
   "source": [
    "using System;\n",
    "class Hello{\n",
    "    public  void Main(){\n",
    "        Console.WriteLine(\"Hello World\");\n",
    "        int [] a = new int[4];          //配列書き方１\n",
    "        int [] b = new int []{1,2,3,4}; //配列書き方２\n",
    "        int [] c = {1, 2, 3, 4};        //配列書き方３\n",
    "    }\n",
    "}\n",
    "\n",
    "Hello hello = new Hello();\n",
    "hello.Main()"
   ]
  },
  {
   "cell_type": "markdown",
   "metadata": {},
   "source": [
    "# 配列と多次元配列"
   ]
  },
  {
   "cell_type": "code",
   "execution_count": 8,
   "metadata": {
    "dotnet_interactive": {
     "language": "csharp"
    },
    "polyglot_notebook": {
     "kernelName": "csharp"
    },
    "vscode": {
     "languageId": "polyglot-notebook"
    }
   },
   "outputs": [],
   "source": [
    "/*配列の書き方*/\n",
    "\n",
    "int [] a = new int[4];          //配列書き方１\n",
    "int [] b = new int []{1,2,3,4}; //配列書き方２\n",
    "int [] c = {1, 2, 3, 4};        //配列書き方３"
   ]
  },
  {
   "cell_type": "code",
   "execution_count": 9,
   "metadata": {
    "dotnet_interactive": {
     "language": "csharp"
    },
    "polyglot_notebook": {
     "kernelName": "csharp"
    },
    "vscode": {
     "languageId": "polyglot-notebook"
    }
   },
   "outputs": [],
   "source": [
    "/*多次元配列*/\n",
    "\n",
    "int []   a = new int [3];           //1次元配列\n",
    "int [,]  b = new int [2,3];         //2次元配列\n",
    "int [,,] c = new int [2,2,3];       //3次元配列"
   ]
  },
  {
   "cell_type": "code",
   "execution_count": 12,
   "metadata": {
    "dotnet_interactive": {
     "language": "csharp"
    },
    "polyglot_notebook": {
     "kernelName": "csharp"
    },
    "vscode": {
     "languageId": "polyglot-notebook"
    }
   },
   "outputs": [],
   "source": [
    "/*多次元配列の代入、初期化参照*/\n",
    "int [,] a = {\n",
    "    {10, 20},\n",
    "    {30, 40},\n",
    "    {50, 60}\n",
    "};\n",
    "a[1,1] = 0;"
   ]
  },
  {
   "cell_type": "code",
   "execution_count": 13,
   "metadata": {
    "dotnet_interactive": {
     "language": "csharp"
    },
    "polyglot_notebook": {
     "kernelName": "csharp"
    },
    "vscode": {
     "languageId": "polyglot-notebook"
    }
   },
   "outputs": [],
   "source": [
    "/*多次元配列２*/\n",
    "\n",
    "// ジャグ配列\n",
    "int [][] a = new int [3][];\n",
    "a[0] = new int[3] {10, 20, 30};\n",
    "a[1] = new int[2] {40, 50};\n",
    "a[2] = new int[1] {60};"
   ]
  },
  {
   "cell_type": "code",
   "execution_count": 17,
   "metadata": {
    "dotnet_interactive": {
     "language": "csharp"
    },
    "polyglot_notebook": {
     "kernelName": "csharp"
    },
    "vscode": {
     "languageId": "polyglot-notebook"
    }
   },
   "outputs": [
    {
     "name": "stdout",
     "output_type": "stream",
     "text": [
      "4\n",
      "6\n",
      "2\n"
     ]
    }
   ],
   "source": [
    "/*要素数*/\n",
    "int [] b = new int[4];\n",
    "Console.WriteLine(b.Length);\n",
    "int [,] c = new int [3,2];\n",
    "Console.WriteLine(c.Length);//多次元配列の長さは全体\n",
    "Console.WriteLine(a[1].Length);//ジャグ配列は各列に対して\n"
   ]
  },
  {
   "cell_type": "code",
   "execution_count": 21,
   "metadata": {
    "dotnet_interactive": {
     "language": "csharp"
    },
    "polyglot_notebook": {
     "kernelName": "csharp"
    },
    "vscode": {
     "languageId": "polyglot-notebook"
    }
   },
   "outputs": [
    {
     "name": "stdout",
     "output_type": "stream",
     "text": [
      "dog\n",
      "3\n",
      "100\n",
      "100\n"
     ]
    }
   ],
   "source": [
    "/*列挙型*/\n",
    "enum Animal1 {mouse, bird, cat, dog, koala, pig , lion};\n",
    "enum Animal2 {mouse, bird, cat, dog=100, koala, pig , lion}; //intのとき\n",
    "enum Animal3:byte {mouse, bird, cat, dog=100, koala, pig , lion}; //byteのとき\n",
    "\n",
    "Console.WriteLine(Animal1.dog);\n",
    "Console.WriteLine((int)Animal1.dog);\n",
    "Console.WriteLine((int)Animal2.dog);\n",
    "Console.WriteLine((int)Animal3.dog);"
   ]
  },
  {
   "cell_type": "code",
   "execution_count": null,
   "metadata": {
    "dotnet_interactive": {
     "language": "csharp"
    },
    "polyglot_notebook": {
     "kernelName": "csharp"
    },
    "vscode": {
     "languageId": "polyglot-notebook"
    }
   },
   "outputs": [],
   "source": []
  }
 ],
 "metadata": {
  "language_info": {
   "name": "python"
  }
 },
 "nbformat": 4,
 "nbformat_minor": 2
}
