{
 "cells": [
  {
   "cell_type": "code",
   "execution_count": 7,
   "metadata": {
    "dotnet_interactive": {
     "language": "csharp"
    },
    "polyglot_notebook": {
     "kernelName": "csharp"
    },
    "vscode": {
     "languageId": "polyglot-notebook"
    }
   },
   "outputs": [
    {
     "name": "stdout",
     "output_type": "stream",
     "text": [
      "Hello World\n",
      "0\n"
     ]
    }
   ],
   "source": [
    "using System;\n",
    "class Hello{\n",
    "    public  void Main(){\n",
    "        Console.WriteLine(\"Hello World\");\n",
    "        int [] a = new int[4];          //配列書き方１\n",
    "        int [] b = new int []{1,2,3,4}; //配列書き方２\n",
    "        int [] c = {1, 2, 3, 4};        //配列書き方３\n",
    "    }\n",
    "}\n",
    "\n",
    "Hello hello = new Hello();\n",
    "hello.Main()"
   ]
  },
  {
   "cell_type": "markdown",
   "metadata": {},
   "source": [
    "# 配列と多次元配列"
   ]
  },
  {
   "cell_type": "code",
   "execution_count": 8,
   "metadata": {
    "dotnet_interactive": {
     "language": "csharp"
    },
    "polyglot_notebook": {
     "kernelName": "csharp"
    },
    "vscode": {
     "languageId": "polyglot-notebook"
    }
   },
   "outputs": [],
   "source": [
    "/*配列の書き方*/\n",
    "\n",
    "int [] a = new int[4];          //配列書き方１\n",
    "int [] b = new int []{1,2,3,4}; //配列書き方２\n",
    "int [] c = {1, 2, 3, 4};        //配列書き方３"
   ]
  },
  {
   "cell_type": "code",
   "execution_count": 9,
   "metadata": {
    "dotnet_interactive": {
     "language": "csharp"
    },
    "polyglot_notebook": {
     "kernelName": "csharp"
    },
    "vscode": {
     "languageId": "polyglot-notebook"
    }
   },
   "outputs": [],
   "source": [
    "/*多次元配列*/\n",
    "\n",
    "int []   a = new int [3];           //1次元配列\n",
    "int [,]  b = new int [2,3];         //2次元配列\n",
    "int [,,] c = new int [2,2,3];       //3次元配列"
   ]
  },
  {
   "cell_type": "code",
   "execution_count": null,
   "metadata": {
    "dotnet_interactive": {
     "language": "csharp"
    },
    "polyglot_notebook": {
     "kernelName": "csharp"
    },
    "vscode": {
     "languageId": "polyglot-notebook"
    }
   },
   "outputs": [],
   "source": []
  }
 ],
 "metadata": {
  "language_info": {
   "name": "python"
  }
 },
 "nbformat": 4,
 "nbformat_minor": 2
}
